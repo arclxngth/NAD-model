{
 "cells": [
  {
   "cell_type": "code",
   "execution_count": 13,
   "metadata": {},
   "outputs": [
    {
     "data": {
      "text/plain": [
       "<module 'evaluation' from '/Users/admin/Documents/NAD-model/evaluation.py'>"
      ]
     },
     "execution_count": 13,
     "metadata": {},
     "output_type": "execute_result"
    }
   ],
   "source": [
    "import evaluation\n",
    "import os\n",
    "import tensorflow as tf\n",
    "import pandas as pd\n",
    "import numpy as np\n",
    "\n",
    "import imp\n",
    "imp.reload(evaluation)"
   ]
  },
  {
   "cell_type": "code",
   "execution_count": 14,
   "metadata": {},
   "outputs": [],
   "source": [
    "TEST_PATH = './datasets/pd-test'\n",
    "TRAIN_PATH = './datasets/pd-train'\n",
    "\n",
    "train_datas, train_labels = evaluation.read_csv(TRAIN_PATH)\n",
    "test_datas, test_labels = evaluation.read_csv(TEST_PATH)\n",
    "model_names = sorted(os.listdir(\"./params\"))"
   ]
  },
  {
   "cell_type": "code",
   "execution_count": 15,
   "metadata": {},
   "outputs": [
    {
     "data": {
      "text/plain": [
       "['1ep-1024bs-5cv-model_vanilla_do_0.5-fe.txt']"
      ]
     },
     "execution_count": 15,
     "metadata": {},
     "output_type": "execute_result"
    }
   ],
   "source": [
    "model_names"
   ]
  },
  {
   "cell_type": "code",
   "execution_count": 16,
   "metadata": {},
   "outputs": [
    {
     "ename": "",
     "evalue": "",
     "output_type": "error",
     "traceback": [
      "\u001b[1;31mCanceled future for execute_request message before replies were done"
     ]
    },
    {
     "ename": "",
     "evalue": "",
     "output_type": "error",
     "traceback": [
      "\u001b[1;31mThe Kernel crashed while executing code in the the current cell or a previous cell. Please review the code in the cell(s) to identify a possible cause of the failure. Click <a href='https://aka.ms/vscodeJupyterKernelCrash'>here</a> for more info. View Jupyter <a href='command:jupyter.viewOutput'>log</a> for further details."
     ]
    }
   ],
   "source": [
    "for m in model_names:\n",
    "  path = \"./params/\" + m\n",
    "\n",
    "  with open(path, \"r\") as file:\n",
    "    model_name = file.readline().split(\": \")[1].strip(\"\\n\") + \".h5\"\n",
    "    ms = file.readline().split(\": \")[1].strip(\"\\n\")\n",
    "    eps = file.readline().split(\": \")[1].strip(\"\\n\")\n",
    "    thresh = file.readline().split(\": \")[1].strip(\"\\n\")\n",
    "\n",
    "  with tf.device('/GPU:0'):\n",
    "    # batch detection\n",
    "    train_res_batch = evaluation.batch_evaluate(train_datas, train_labels, \"./models/\" + model_name, [ float(eps), int(ms), float(thresh) ])\n",
    "    test_res_batch = evaluation.batch_evaluate(test_datas, test_labels, \"./models/\" + model_name, [ float(eps), int(ms), float(thresh) ])\n",
    "    \n",
    "    # real-time detection\n",
    "    train_res_rt = evaluation.real_time_evaluate(train_datas, train_labels, \"./models/\" + model_name, float(thresh))\n",
    "    test_res_rt = evaluation.real_time_evaluate(test_datas, test_labels, \"./models/\" + model_name, float(thresh))\n",
    "  \n",
    "  df = pd.DataFrame(np.concatenate((train_res_batch, test_res_batch, train_res_rt, test_res_rt)))\n",
    "  df = df.transpose()\n",
    "  df.to_csv(\"./results/\" + model_name.strip(\"h5\") + \".csv\", index=False, header=False)\n",
    "  \n",
    "  print(model_name + \" success\")"
   ]
  }
 ],
 "metadata": {
  "kernelspec": {
   "display_name": "Python 3",
   "language": "python",
   "name": "python3"
  },
  "language_info": {
   "codemirror_mode": {
    "name": "ipython",
    "version": 3
   },
   "file_extension": ".py",
   "mimetype": "text/x-python",
   "name": "python",
   "nbconvert_exporter": "python",
   "pygments_lexer": "ipython3",
   "version": "3.11.2"
  },
  "orig_nbformat": 4,
  "vscode": {
   "interpreter": {
    "hash": "aee8b7b246df8f9039afb4144a1f6fd8d2ca17a180786b69acc140d282b71a49"
   }
  }
 },
 "nbformat": 4,
 "nbformat_minor": 2
}
