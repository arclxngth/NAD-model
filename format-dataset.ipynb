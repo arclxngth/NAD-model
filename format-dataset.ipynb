{
 "cells": [
  {
   "cell_type": "code",
   "execution_count": 1,
   "metadata": {},
   "outputs": [],
   "source": [
    "string = \"duration,protocol_type,service,flag,src_bytes,dst_bytes,land,wrong_fragment,urgent,hot,num_failed_logins,logged_in,num_compromised,root_shell,su_attempted,num_root,num_file_creations,num_shells,num_access_files,num_outbound_cmds,is_host_login,is_guest_login,count,srv_count,serror_rate,srv_serror_rate,rerror_rate,srv_rerror_rate,same_srv_rate,diff_srv_rate,srv_diff_host_rate,dst_host_count,dst_host_srv_count,dst_host_same_srv_rate,dst_host_diff_srv_rate,dst_host_same_src_port_rate,dst_host_srv_diff_host_rate,dst_host_serror_rate,dst_host_srv_serror_rate,dst_host_rerror_rate,dst_host_srv_rerror_rate,attack,last_flag\\n\""
   ]
  },
  {
   "cell_type": "code",
   "execution_count": 2,
   "metadata": {},
   "outputs": [
    {
     "name": "stdout",
     "output_type": "stream",
     "text": [
      "125973\n",
      "22544\n",
      "148516\n"
     ]
    }
   ],
   "source": [
    "with open(\"./datasets/Train.txt\", \"r\") as file: \n",
    "    datas1 = file.readlines()\n",
    "    print(len(datas1))\n",
    "\n",
    "with open(\"./datasets/Test.txt\", \"r\") as file:\n",
    "    datas2 = file.readlines()\n",
    "    print(len(datas2))\n",
    "\n",
    "datas = datas1 + datas2[1:]\n",
    "print(len(datas))\n",
    "\n",
    "with open(\"./datasets/datasets.txt\", \"w\") as file:\n",
    "    file.write(string)\n",
    "    for data in datas:\n",
    "        dataList = data.split(\",\")\n",
    "        if dataList[41] != \"normal\":\n",
    "            dataList[41] = \"anomaly\"\n",
    "        data = \",\".join(dataList)\n",
    "        if(data[-1:] != \"\\n\"):\n",
    "            data += \"\\n\"\n",
    "        file.write(data)"
   ]
  }
 ],
 "metadata": {
  "kernelspec": {
   "display_name": "Python 3.10.6 64-bit",
   "language": "python",
   "name": "python3"
  },
  "language_info": {
   "codemirror_mode": {
    "name": "ipython",
    "version": 3
   },
   "file_extension": ".py",
   "mimetype": "text/x-python",
   "name": "python",
   "nbconvert_exporter": "python",
   "pygments_lexer": "ipython3",
   "version": "3.11.2"
  },
  "orig_nbformat": 4,
  "vscode": {
   "interpreter": {
    "hash": "aee8b7b246df8f9039afb4144a1f6fd8d2ca17a180786b69acc140d282b71a49"
   }
  }
 },
 "nbformat": 4,
 "nbformat_minor": 2
}
