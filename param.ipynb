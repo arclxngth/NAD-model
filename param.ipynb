{
 "cells": [
  {
   "cell_type": "code",
   "execution_count": 1,
   "metadata": {},
   "outputs": [
    {
     "name": "stderr",
     "output_type": "stream",
     "text": [
      "2023-04-04 20:47:20.754507: I tensorflow/core/platform/cpu_feature_guard.cc:182] This TensorFlow binary is optimized to use available CPU instructions in performance-critical operations.\n",
      "To enable the following instructions: AVX2 FMA, in other operations, rebuild TensorFlow with the appropriate compiler flags.\n",
      "/var/folders/1b/t_rxfbzs07j8s33dt7c2n01m0000gn/T/ipykernel_56486/1941840046.py:5: DeprecationWarning: the imp module is deprecated in favour of importlib and slated for removal in Python 3.12; see the module's documentation for alternative uses\n",
      "  import imp\n"
     ]
    },
    {
     "data": {
      "text/plain": [
       "<module 'nad_param' from '/Users/admin/Documents/NAD-model/nad_param.py'>"
      ]
     },
     "execution_count": 1,
     "metadata": {},
     "output_type": "execute_result"
    }
   ],
   "source": [
    "from keras.models import load_model\n",
    "import numpy as np\n",
    "\n",
    "import nad_param as param\n",
    "import imp\n",
    "imp.reload(param)"
   ]
  },
  {
   "attachments": {},
   "cell_type": "markdown",
   "metadata": {},
   "source": [
    "### Install nthresh first\n",
    "`pip install git+https://github.com/PaulRivaud/nthresh.git`"
   ]
  },
  {
   "cell_type": "code",
   "execution_count": 3,
   "metadata": {},
   "outputs": [],
   "source": [
    "PATH = \"./datasets/pd-train\"\n",
    "NAMES = [] # add model names here or using os.listdir()\n",
    "\n",
    "for name in NAMES:\n",
    "  MODEL_PATH = \"./models/\" + name + \".h5\"\n",
    "\n",
    "  datas, labels = param.read_csv(PATH)\n",
    "  model = load_model(MODEL_PATH)\n",
    "\n",
    "  latent_spaces, REs = param.feed_forward(model, datas)\n",
    "  pos_instances = np.dstack((latent_spaces, REs))[0]\n",
    "  distances = param.getDistances(pos_instances)\n",
    "\n",
    "  min_samples = range(3, 10)\n",
    "  eps = np.arange(0.0005, 0.0025, 0.0005)\n",
    "  ans_min_samples, ans_eps = param.getMinSampleEPS(pos_instances, min_samples, eps)\n",
    "\n",
    "  ans_thresh = param.get_threshold(REs)\n",
    "\n",
    "  path = \"./params/\" + name + \".txt\"\n",
    "  with open(path, \"w\") as file:\n",
    "    line = \"model name: \" + name + \"\\n\"\n",
    "    file.write(line)\n",
    "    line = \"min_samples: \" + str(ans_min_samples) + \"\\n\"\n",
    "    file.write(line)\n",
    "    line = \"eps: \" + str(ans_eps) + \"\\n\"\n",
    "    file.write(line)\n",
    "    line = \"threshold: \" + str(ans_thresh) + \"\\n\"\n",
    "    file.write(line)\n",
    "    file.close()"
   ]
  }
 ],
 "metadata": {
  "kernelspec": {
   "display_name": "Python 3",
   "language": "python",
   "name": "python3"
  },
  "language_info": {
   "codemirror_mode": {
    "name": "ipython",
    "version": 3
   },
   "file_extension": ".py",
   "mimetype": "text/x-python",
   "name": "python",
   "nbconvert_exporter": "python",
   "pygments_lexer": "ipython3",
   "version": "3.11.2"
  },
  "orig_nbformat": 4
 },
 "nbformat": 4,
 "nbformat_minor": 2
}
